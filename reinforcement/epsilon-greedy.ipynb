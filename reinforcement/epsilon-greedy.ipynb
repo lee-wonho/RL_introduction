{
 "cells": [
  {
   "cell_type": "code",
   "execution_count": 1,
   "metadata": {},
   "outputs": [],
   "source": [
    "import numpy as np\n",
    "import matplotlib.pyplot as plt"
   ]
  },
  {
   "cell_type": "code",
   "execution_count": 2,
   "metadata": {},
   "outputs": [],
   "source": [
    "MEAN = 0\n",
    "STD = 0.01\n",
    "\n",
    "def RL_exec(max_iter, arms_num, task_num, epsilon):\n",
    "    model_init(max_iter,arms_num,task_num)\n",
    "    run(max_iter,arms_num,task_num,epsilon)"
   ]
  },
  {
   "cell_type": "code",
   "execution_count": 3,
   "metadata": {},
   "outputs": [],
   "source": [
    "def model_init(max_iter, arms_num, task_num):\n",
    "    global Q,N,R\n",
    "    Q = np.zeros(arms_num)\n",
    "    N = np.zeros(arms_num)\n",
    "    R= np.random.randint(1,20,size=(10,1))\n",
    "    \n",
    "    \n",
    "def bandit(action):\n",
    "    global R\n",
    "    if np.random.randint(low=0,high=20)>10:\n",
    "        reward=0\n",
    "    else:\n",
    "        reward=R[action]\n",
    "    return reward"
   ]
  },
  {
   "cell_type": "code",
   "execution_count": 4,
   "metadata": {},
   "outputs": [],
   "source": [
    "def epsilon_greedy(arms_num,epsilon):\n",
    "    global Q, N\n",
    "    action = 0\n",
    "    if 1000*epsilon>=np.random.randn()%1000:\n",
    "        action = int(np.random.randn())%arms_num\n",
    "    else:\n",
    "        action = np.argmax(Q)\n",
    "    return action"
   ]
  },
  {
   "cell_type": "code",
   "execution_count": 5,
   "metadata": {},
   "outputs": [],
   "source": [
    "def run(max_iter, arms_num, task_num, epsilon):\n",
    "    global Q, N ,R\n",
    "    tot_N = []\n",
    "    tot_R = []\n",
    "    step_size=1\n",
    "    for i in range(max_iter):\n",
    "        for j in range(task_num):\n",
    "            action = epsilon_greedy(arms_num,epsilon)\n",
    "            reward = bandit(action)\n",
    "            Q[action]+=step_size*(reward-Q[action])\n",
    "            N[action]+=1\n",
    "            step_size=1/np.sum(N)\n",
    "        tot_N.append(N.sum()/task_num)\n",
    "        tot_R.append(np.mean(Q))\n",
    "    print(R.transpose())\n",
    "    print(Q.transpose())\n",
    "    plt.plot(tot_N,tot_R)"
   ]
  },
  {
   "cell_type": "code",
   "execution_count": 6,
   "metadata": {},
   "outputs": [
    {
     "name": "stdout",
     "output_type": "stream",
     "text": [
      "[[ 5 10 13  9  2 12 17 13 15 19]]\n",
      "[2.73371890e+00 3.59022735e+00 6.18844195e-01 3.89444458e-02\n",
      " 4.73245782e-05 0.00000000e+00 1.74745432e-02 4.40510876e-02\n",
      " 8.41088770e-01 1.04464139e+01]\n"
     ]
    },
    {
     "data": {
      "image/png": "[encoded data removed]",
      "text/plain": [
       "<Figure size 432x288 with 1 Axes>"
      ]
     },
     "metadata": {
      "needs_background": "light"
     },
     "output_type": "display_data"
    }
   ],
   "source": [
    "RL_exec(10000,10,500,0.1)"
   ]
  },
  {
   "cell_type": "code",
   "execution_count": null,
   "metadata": {},
   "outputs": [],
   "source": []
  },
  {
   "cell_type": "code",
   "execution_count": null,
   "metadata": {},
   "outputs": [],
   "source": []
  }
 ],
 "metadata": {
  "kernelspec": {
   "display_name": "Python 3",
   "language": "python",
   "name": "python3"
  },
  "language_info": {
   "codemirror_mode": {
    "name": "ipython",
    "version": 3
   },
   "file_extension": ".py",
   "mimetype": "text/x-python",
   "name": "python",
   "nbconvert_exporter": "python",
   "pygments_lexer": "ipython3",
   "version": "3.7.6"
  }
 },
 "nbformat": 4,
 "nbformat_minor": 4
}
